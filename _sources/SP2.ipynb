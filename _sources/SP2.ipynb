{
 "cells": [
  {
   "cell_type": "markdown",
   "id": "436a0667",
   "metadata": {},
   "source": [
    "# Strategic Practice 2 (SP2)\n",
    "\n",
    "Today we'll work with the actual morphology data from the Allen Institute, as opposed to a toy dataset. Like last time, the goal here is 'strategic practice': understanding core statistical concepts and fundamental python idioms through drill-like problems. That said, you will probably find some of these a little bit harder than last week -- there may be a missing step in some cases that you'll need to think about. "
   ]
  },
  {
   "cell_type": "markdown",
   "id": "8ef053f3",
   "metadata": {},
   "source": [
    "# Setup and Background:\n",
    "\n",
    "The block of code below will get set up everything you need to answer the practice questions. It imports the basic libraries which you're probably starting to get familiar with, loads the Allen morphology data, and bundles it into a dataframe for you. Unless otherewise stated, the dataframe you'll need to use on the questions is called 'morphology.'"
   ]
  },
  {
   "cell_type": "code",
   "execution_count": 8,
   "id": "4b554610",
   "metadata": {},
   "outputs": [
    {
     "data": {
      "text/html": [
       "<div>\n",
       "<style scoped>\n",
       "    .dataframe tbody tr th:only-of-type {\n",
       "        vertical-align: middle;\n",
       "    }\n",
       "\n",
       "    .dataframe tbody tr th {\n",
       "        vertical-align: top;\n",
       "    }\n",
       "\n",
       "    .dataframe thead th {\n",
       "        text-align: right;\n",
       "    }\n",
       "</style>\n",
       "<table border=\"1\" class=\"dataframe\">\n",
       "  <thead>\n",
       "    <tr style=\"text-align: right;\">\n",
       "      <th></th>\n",
       "      <th>overall_depth</th>\n",
       "      <th>number_bifurcations</th>\n",
       "      <th>average_bifurcation_angle_local</th>\n",
       "      <th>average_diameter</th>\n",
       "      <th>specimen_id</th>\n",
       "      <th>species</th>\n",
       "      <th>structure_area_abbrev</th>\n",
       "    </tr>\n",
       "    <tr>\n",
       "      <th>id</th>\n",
       "      <th></th>\n",
       "      <th></th>\n",
       "      <th></th>\n",
       "      <th></th>\n",
       "      <th></th>\n",
       "      <th></th>\n",
       "      <th></th>\n",
       "    </tr>\n",
       "  </thead>\n",
       "  <tbody>\n",
       "    <tr>\n",
       "      <th>529878215</th>\n",
       "      <td>135.5200</td>\n",
       "      <td>56</td>\n",
       "      <td>72.604110</td>\n",
       "      <td>0.527213</td>\n",
       "      <td>529878215</td>\n",
       "      <td>Homo Sapiens</td>\n",
       "      <td>MTG</td>\n",
       "    </tr>\n",
       "    <tr>\n",
       "      <th>548459652</th>\n",
       "      <td>148.0957</td>\n",
       "      <td>44</td>\n",
       "      <td>68.499396</td>\n",
       "      <td>0.614133</td>\n",
       "      <td>548459652</td>\n",
       "      <td>Homo Sapiens</td>\n",
       "      <td>MFG</td>\n",
       "    </tr>\n",
       "    <tr>\n",
       "      <th>479013100</th>\n",
       "      <td>52.7875</td>\n",
       "      <td>18</td>\n",
       "      <td>77.679949</td>\n",
       "      <td>0.488865</td>\n",
       "      <td>479013100</td>\n",
       "      <td>Mus musculus</td>\n",
       "      <td>VISp</td>\n",
       "    </tr>\n",
       "    <tr>\n",
       "      <th>567952169</th>\n",
       "      <td>57.2006</td>\n",
       "      <td>23</td>\n",
       "      <td>73.926537</td>\n",
       "      <td>0.216384</td>\n",
       "      <td>567952169</td>\n",
       "      <td>Mus musculus</td>\n",
       "      <td>VISp</td>\n",
       "    </tr>\n",
       "    <tr>\n",
       "      <th>569095789</th>\n",
       "      <td>106.0998</td>\n",
       "      <td>22</td>\n",
       "      <td>89.985385</td>\n",
       "      <td>0.289549</td>\n",
       "      <td>569095789</td>\n",
       "      <td>Homo Sapiens</td>\n",
       "      <td>AnG</td>\n",
       "    </tr>\n",
       "  </tbody>\n",
       "</table>\n",
       "</div>"
      ],
      "text/plain": [
       "           overall_depth  number_bifurcations  \\\n",
       "id                                              \n",
       "529878215       135.5200                   56   \n",
       "548459652       148.0957                   44   \n",
       "479013100        52.7875                   18   \n",
       "567952169        57.2006                   23   \n",
       "569095789       106.0998                   22   \n",
       "\n",
       "           average_bifurcation_angle_local  average_diameter  specimen_id  \\\n",
       "id                                                                          \n",
       "529878215                        72.604110          0.527213    529878215   \n",
       "548459652                        68.499396          0.614133    548459652   \n",
       "479013100                        77.679949          0.488865    479013100   \n",
       "567952169                        73.926537          0.216384    567952169   \n",
       "569095789                        89.985385          0.289549    569095789   \n",
       "\n",
       "                species structure_area_abbrev  \n",
       "id                                             \n",
       "529878215  Homo Sapiens                   MTG  \n",
       "548459652  Homo Sapiens                   MFG  \n",
       "479013100  Mus musculus                  VISp  \n",
       "567952169  Mus musculus                  VISp  \n",
       "569095789  Homo Sapiens                   AnG  "
      ]
     },
     "execution_count": 8,
     "metadata": {},
     "output_type": "execute_result"
    }
   ],
   "source": [
    "import numpy as np\n",
    "import seaborn as sns\n",
    "import matplotlib.pyplot as plt\n",
    "import pandas as pd\n",
    "\n",
    "from allensdk.core.cell_types_cache import CellTypesCache\n",
    "\n",
    "# Get the data\n",
    "ctc = CellTypesCache(manifest_file='cell_types/manifest.json')\n",
    "features = pd.DataFrame(ctc.get_all_features(require_reconstruction=True))\n",
    "cell_metadata = pd.DataFrame(ctc.get_cells(require_reconstruction=True))\n",
    "\n",
    "# Discard ephys data & retain morphology and cell identifiers\n",
    "features_morpho = features.loc[:,['overall_depth','number_bifurcations','average_bifurcation_angle_local', 'average_diameter']]\n",
    "features_morpho['specimen_id'] = features['specimen_id']\n",
    "\n",
    "# Merge features and metadata\n",
    "morphology = pd.merge(features_morpho,\n",
    "              cell_metadata[['species', 'structure_area_abbrev', 'id']], \n",
    "              left_on='specimen_id', right_on='id').set_index('id')\n",
    "\n",
    "morphology.head()"
   ]
  },
  {
   "cell_type": "markdown",
   "id": "fcbceeda",
   "metadata": {},
   "source": [
    "# A bit more practice with Pandas: filtering and slicing"
   ]
  },
  {
   "cell_type": "markdown",
   "id": "d54f7268",
   "metadata": {},
   "source": [
    "```{admonition} Question 1\n",
    ":class: seealso\n",
    "Create a dataframe that only has rows from 'morphology' with cells having more than 70 bifurcations (cataloged in num_bifurcations). What brain areas appear to be heavily represented in this set?\n",
    "```"
   ]
  },
  {
   "cell_type": "markdown",
   "id": "49255282",
   "metadata": {},
   "source": [
    "```{admonition} Question 2\n",
    ":class: seealso\n",
    "Create a dataframe called morpho_numeric_features that consists of the first three columns of morphology. Use the slice syntax discussed earlier to do this (i.e., use the colon(:) to specify a range; don't explicitly name each column)\n",
    "```"
   ]
  },
  {
   "cell_type": "markdown",
   "id": "8cf796bf",
   "metadata": {},
   "source": [
    "# Plotting and fitting distributions"
   ]
  },
  {
   "cell_type": "markdown",
   "id": "71b88891",
   "metadata": {},
   "source": [
    "```{admonition} Question 3\n",
    ":class: seealso\n",
    "Plot a scattermatrix of morpho_numeric_features, and inspect the univariate distributions of each variable (along the diagonal). Suppose one of these distributions is exponential, one is gaussian, and one is (quasi) uniform. Which is which? (Use each distribution only once, and pick the best, even if you feel the description isn't necessarily perfect). For the variable you designated as uniform(ish), what does its uniformity tell you about cells in the dataset? \n",
    "```"
   ]
  },
  {
   "cell_type": "markdown",
   "id": "7264f030",
   "metadata": {},
   "source": [
    "```{admonition} Question 4\n",
    ":class: seealso\n",
    "Extract the column from the morpho_numeric_features that you think is gaussian. Compute a normalized histogram of this feature, such that the y axis of you histogram indicates relative frequencies, not total counts. To do this, you'll want to use matplotlib's plt.hist() method, which takes a parameter 'density=True'. \n",
    "```"
   ]
  },
  {
   "cell_type": "markdown",
   "id": "55856207",
   "metadata": {},
   "source": [
    "Recall that we can use the scipy module norm() to both generate normally distributed data, and to fit data to a normal distribution (and also do a lot of other things). By way of reminder, the block of code below shows you some of this basic functionality."
   ]
  },
  {
   "cell_type": "code",
   "execution_count": 43,
   "id": "956dabf5",
   "metadata": {},
   "outputs": [
    {
     "data": {
      "image/png": "[encoded data removed]",
      "text/plain": [
       "<Figure size 640x480 with 1 Axes>"
      ]
     },
     "metadata": {},
     "output_type": "display_data"
    }
   ],
   "source": [
    "from scipy.stats import norm\n",
    "\n",
    "# Create an array of a thousand points sampled from a normal distribution w/ zero mean and unit variance.\n",
    "mean = 0\n",
    "variance = 1\n",
    "fake_data = norm.rvs(loc=mean, scale=variance, size=(1000,1))\n",
    "\n",
    "# Plot a histogram of the fake data\n",
    "plt.hist(fake_data, 50, density=True, alpha=0.5);\n",
    "\n",
    "# Use the .fit() function to fit a normal distribution to the data, and estimate the mean and variance. \n",
    "# Note: We of course KNOW that our points come from a normal distribution w/ zero mean and unit variance; \n",
    "# we're just illustrating usage of the function. \n",
    "(mean_estimate, var_estimate) = norm.fit(fake_data)\n",
    "\n",
    "# Get the x range of our histogram, and create an array w/ 100 evenly spaced points over this range. \n",
    "xmin, xmax = plt.xlim()\n",
    "x = np.linspace(xmin, xmax, 100)\n",
    "\n",
    "# Create a plot of a Gaussian PDF, using our estimated mean and variance\n",
    "normal_fit = norm.pdf(x, mean_estimate, var_estimate)\n",
    "\n",
    "# Plot the fit on top of our histogram\n",
    "plt.plot(x, normal_fit, 'r', linewidth=2)\n",
    "plt.show()"
   ]
  },
  {
   "cell_type": "markdown",
   "id": "5712c703",
   "metadata": {},
   "source": [
    "```{admonition} Question 5\n",
    ":class: seealso\n",
    "Use the scipy function 'norm' to compute a fit to the column from morpho_numeric_features that you think is normally distributed. What are the mean and standard deviation from the fit procedure, and how do these compare to the mean and standard deviation you calculate directly from the data, using Pandas' .mean() and .std() functions?\n",
    "```"
   ]
  },
  {
   "cell_type": "markdown",
   "id": "afb1c81b",
   "metadata": {},
   "source": [
    "# Calculating percentiles from scratch"
   ]
  },
  {
   "cell_type": "markdown",
   "id": "99358df4",
   "metadata": {},
   "source": [
    "```{admonition} Question 6\n",
    ":class: seealso\n",
    "What is a percentile? Give as clear and precise a definition as you can, and describe a step-by-step procedure for starting with an array of numbers, and returning a value that corresponds to the n-th percentile (where n is an arbitrary number between 0 and 100)\n",
    "```"
   ]
  },
  {
   "cell_type": "markdown",
   "id": "a56b8469",
   "metadata": {},
   "source": [
    "Let's put our numpy hat on for these next few questions. We'll work with the 'depth' data from the morphology dataframe, which tells us the depth (in microns) of the soma of a given cell, relative to the surface of the brain "
   ]
  },
  {
   "cell_type": "code",
   "execution_count": 56,
   "id": "0738c87a",
   "metadata": {},
   "outputs": [],
   "source": [
    "depth = morpho_numeric_features['overall_depth'].to_numpy()"
   ]
  },
  {
   "cell_type": "markdown",
   "id": "ad7c97a2",
   "metadata": {},
   "source": [
    "```{admonition} Question 7\n",
    ":class: seealso\n",
    "Calculate the 90th percentile of depth, without using pandas. You will find the functions np.sort(), np.shape() and np.floor() handy.\n",
    "```"
   ]
  },
  {
   "cell_type": "markdown",
   "id": "514a26ee",
   "metadata": {},
   "source": [
    "# Calculating variance from scratch\n",
    "\n",
    "Calculating the variance of a feature using Pandas is very straightforward. For example, if I was interested in how variable neurons were in their numer of bifurcations, that's given by:"
   ]
  },
  {
   "cell_type": "code",
   "execution_count": 77,
   "id": "3b23797a",
   "metadata": {},
   "outputs": [
    {
     "data": {
      "text/plain": [
       "227.4025596087221"
      ]
     },
     "execution_count": 77,
     "metadata": {},
     "output_type": "execute_result"
    }
   ],
   "source": [
    "morpho_numeric_features['number_bifurcations'].var()"
   ]
  },
  {
   "cell_type": "markdown",
   "id": "ebe851d2",
   "metadata": {},
   "source": [
    "Recall that variance is the average of the data's *squared* deviations from mean, meaning that it's not on the same original scale as the data. For a more apples to apples comparison, it's customary to take the square root of the variance, or the standard deviation:"
   ]
  },
  {
   "cell_type": "code",
   "execution_count": 78,
   "id": "1d7e5d54",
   "metadata": {},
   "outputs": [
    {
     "data": {
      "text/plain": [
       "15.079872665534086"
      ]
     },
     "execution_count": 78,
     "metadata": {},
     "output_type": "execute_result"
    }
   ],
   "source": [
    "morpho_numeric_features['number_bifurcations'].var() ** 0.5"
   ]
  },
  {
   "cell_type": "markdown",
   "id": "2ef79d80",
   "metadata": {},
   "source": [
    "You'll get exactly the same result if you use Pandas std() function:"
   ]
  },
  {
   "cell_type": "code",
   "execution_count": 81,
   "id": "2215fa80",
   "metadata": {},
   "outputs": [
    {
     "data": {
      "text/plain": [
       "15.079872665534086"
      ]
     },
     "execution_count": 81,
     "metadata": {},
     "output_type": "execute_result"
    }
   ],
   "source": [
    "morpho_numeric_features['number_bifurcations'].std()"
   ]
  },
  {
   "cell_type": "markdown",
   "id": "014a7921",
   "metadata": {},
   "source": [
    "```{admonition} Question 8\n",
    ":class: seealso\n",
    "Calculate the variance of this list of numbers by hand: [1, 0, 3, 4]. In a markdown cell, write out a full expression showing the calculation. For example: variance = (1 x 2^2) + (3-6)^3 + .... (Clearly this expression is incorrect -- I'm just giving a generic illustration of what I'm looking for).\n",
    "```"
   ]
  },
  {
   "cell_type": "markdown",
   "id": "ea911186",
   "metadata": {},
   "source": [
    "```{admonition} Question 9\n",
    ":class: seealso\n",
    "Pretend the var() function in Pandas didn't exist. Calculate the variance in number of bifurcations using only the numpy expression np.mean() and arithmetic expressions +, -, ** . The first thing you'll want to do is get the number_bifurcations column and turn it into an array, which is done for you below. One helpful thing to note is that numpy is smart about the 'broadcasting' of array in simple expressions. For example, if I had an array like [1,0,2,4,10], and I tried to subtract just the single value 1 from it, numpy would know that I'm really trying to subtract 1 from each element in the array. \n",
    "```"
   ]
  },
  {
   "cell_type": "code",
   "execution_count": 95,
   "id": "9468c2c7",
   "metadata": {},
   "outputs": [],
   "source": [
    "num_bif = morpho_numeric_features['number_bifurcations'].to_numpy();"
   ]
  }
 ],
 "metadata": {
  "kernelspec": {
   "display_name": "Python 3 (ipykernel)",
   "language": "python",
   "name": "python3"
  },
  "language_info": {
   "codemirror_mode": {
    "name": "ipython",
    "version": 3
   },
   "file_extension": ".py",
   "mimetype": "text/x-python",
   "name": "python",
   "nbconvert_exporter": "python",
   "pygments_lexer": "ipython3",
   "version": "3.8.8"
  }
 },
 "nbformat": 4,
 "nbformat_minor": 5
}
