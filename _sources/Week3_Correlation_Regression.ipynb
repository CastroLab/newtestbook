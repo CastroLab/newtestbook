{
 "cells": [
  {
   "cell_type": "code",
   "execution_count": 184,
   "id": "ad4b9a28",
   "metadata": {},
   "outputs": [],
   "source": [
    "import numpy as np\n",
    "import pandas as pd\n",
    "import seaborn as sns\n",
    "import matplotlib.pyplot as plt"
   ]
  },
  {
   "cell_type": "markdown",
   "id": "eb519985",
   "metadata": {},
   "source": [
    "# Covariance\n",
    "\n",
    "Calculating a covariance matrix from scratch is a useful exercise, and is a good test for whether you really understand what you're doing. Let's create some toy data, which we'll imagine is levels of gene expression for 4 different genes (in the rows) across 3 different brain areas (in the columns). The units aren't terribly important, but if you want to feel like this is plausible, we could imagine that we're charting fold enrichment relative to some baseline. "
   ]
  },
  {
   "cell_type": "code",
   "execution_count": 336,
   "id": "5964624a",
   "metadata": {},
   "outputs": [
    {
     "data": {
      "text/html": [
       "<div>\n",
       "<style scoped>\n",
       "    .dataframe tbody tr th:only-of-type {\n",
       "        vertical-align: middle;\n",
       "    }\n",
       "\n",
       "    .dataframe tbody tr th {\n",
       "        vertical-align: top;\n",
       "    }\n",
       "\n",
       "    .dataframe thead th {\n",
       "        text-align: right;\n",
       "    }\n",
       "</style>\n",
       "<table border=\"1\" class=\"dataframe\">\n",
       "  <thead>\n",
       "    <tr style=\"text-align: right;\">\n",
       "      <th></th>\n",
       "      <th>hipp</th>\n",
       "      <th>ctx</th>\n",
       "      <th>cblm</th>\n",
       "    </tr>\n",
       "  </thead>\n",
       "  <tbody>\n",
       "    <tr>\n",
       "      <th>gene1</th>\n",
       "      <td>5</td>\n",
       "      <td>2</td>\n",
       "      <td>12</td>\n",
       "    </tr>\n",
       "    <tr>\n",
       "      <th>gene2</th>\n",
       "      <td>2</td>\n",
       "      <td>12</td>\n",
       "      <td>16</td>\n",
       "    </tr>\n",
       "    <tr>\n",
       "      <th>gene3</th>\n",
       "      <td>0</td>\n",
       "      <td>1</td>\n",
       "      <td>5</td>\n",
       "    </tr>\n",
       "    <tr>\n",
       "      <th>gene4</th>\n",
       "      <td>5</td>\n",
       "      <td>0</td>\n",
       "      <td>1</td>\n",
       "    </tr>\n",
       "  </tbody>\n",
       "</table>\n",
       "</div>"
      ],
      "text/plain": [
       "       hipp  ctx  cblm\n",
       "gene1     5    2    12\n",
       "gene2     2   12    16\n",
       "gene3     0    1     5\n",
       "gene4     5    0     1"
      ]
     },
     "execution_count": 336,
     "metadata": {},
     "output_type": "execute_result"
    }
   ],
   "source": [
    "data = np.array([[5, 2, 12],[2, 12, 16],[0, 1, 5],[5, 0, 1]])\n",
    "df = pd.DataFrame(data, columns=['hipp', 'ctx', 'cblm'], index = ['gene1', 'gene2', 'gene3', 'gene4'])\n",
    "df.head()"
   ]
  },
  {
   "cell_type": "markdown",
   "id": "f3d4bd70",
   "metadata": {},
   "source": [
    "Pandas makes it almost too easy to calculate the covariance matrix:"
   ]
  },
  {
   "cell_type": "code",
   "execution_count": 337,
   "id": "2d756cd1",
   "metadata": {
    "scrolled": true
   },
   "outputs": [
    {
     "data": {
      "text/html": [
       "<div>\n",
       "<style scoped>\n",
       "    .dataframe tbody tr th:only-of-type {\n",
       "        vertical-align: middle;\n",
       "    }\n",
       "\n",
       "    .dataframe tbody tr th {\n",
       "        vertical-align: top;\n",
       "    }\n",
       "\n",
       "    .dataframe thead th {\n",
       "        text-align: right;\n",
       "    }\n",
       "</style>\n",
       "<table border=\"1\" class=\"dataframe\">\n",
       "  <thead>\n",
       "    <tr style=\"text-align: right;\">\n",
       "      <th></th>\n",
       "      <th>hipp</th>\n",
       "      <th>ctx</th>\n",
       "      <th>cblm</th>\n",
       "    </tr>\n",
       "  </thead>\n",
       "  <tbody>\n",
       "    <tr>\n",
       "      <th>hipp</th>\n",
       "      <td>6.000000</td>\n",
       "      <td>-3.666667</td>\n",
       "      <td>-1.666667</td>\n",
       "    </tr>\n",
       "    <tr>\n",
       "      <th>ctx</th>\n",
       "      <td>-3.666667</td>\n",
       "      <td>30.916667</td>\n",
       "      <td>31.166667</td>\n",
       "    </tr>\n",
       "    <tr>\n",
       "      <th>cblm</th>\n",
       "      <td>-1.666667</td>\n",
       "      <td>31.166667</td>\n",
       "      <td>45.666667</td>\n",
       "    </tr>\n",
       "  </tbody>\n",
       "</table>\n",
       "</div>"
      ],
      "text/plain": [
       "          hipp        ctx       cblm\n",
       "hipp  6.000000  -3.666667  -1.666667\n",
       "ctx  -3.666667  30.916667  31.166667\n",
       "cblm -1.666667  31.166667  45.666667"
      ]
     },
     "execution_count": 337,
     "metadata": {},
     "output_type": "execute_result"
    }
   ],
   "source": [
    "df.cov()"
   ]
  },
  {
   "cell_type": "markdown",
   "id": "cb00a48a",
   "metadata": {},
   "source": [
    "We can also calculate the correlation matrix just as easily. The code below shows the correlation matrix as a heatmap."
   ]
  },
  {
   "cell_type": "code",
   "execution_count": 342,
   "id": "34ad183f",
   "metadata": {},
   "outputs": [
    {
     "data": {
      "text/plain": [
       "<AxesSubplot:>"
      ]
     },
     "execution_count": 342,
     "metadata": {},
     "output_type": "execute_result"
    },
    {
     "data": {
      "image/png": "[encoded data removed]",
      "text/plain": [
       "<Figure size 640x480 with 2 Axes>"
      ]
     },
     "metadata": {},
     "output_type": "display_data"
    }
   ],
   "source": [
    "corr_matrix = df.corr()\n",
    "sns.heatmap(corr_matrix, cmap='Spectral_r')"
   ]
  },
  {
   "cell_type": "markdown",
   "id": "0ebf668a",
   "metadata": {},
   "source": [
    "Recall that for a dataset with n features, the covariance matrix will be n x n. The (i,j)th entry of the matrix will be the covariance between features i and j, which is just the dot product of the two features, with the mean subtracted. The recipe for computing the covariance of a dataset is as follows: \n",
    "\n",
    "1) subtract the mean from each column\n",
    "2) multiply the data matrix by its transpose\n",
    "3) divide by the total number of data points\n",
    "\n",
    "Let's do this in code. First up, calculate the means:"
   ]
  },
  {
   "cell_type": "code",
   "execution_count": 343,
   "id": "c4937311",
   "metadata": {},
   "outputs": [
    {
     "data": {
      "text/plain": [
       "array([3.  , 3.75, 8.5 ])"
      ]
     },
     "execution_count": 343,
     "metadata": {},
     "output_type": "execute_result"
    }
   ],
   "source": [
    "data.mean(axis=0)"
   ]
  },
  {
   "cell_type": "markdown",
   "id": "9e9b99fd",
   "metadata": {},
   "source": [
    "We want to subtract 3 from all the rows of the first column, subtract 3.75 from all the rows of the second column, etc. We have to coax numpy a little bit to do that by 'tiling' the array so it can easily be subtracted from the original array. "
   ]
  },
  {
   "cell_type": "code",
   "execution_count": 345,
   "id": "cd7c676a",
   "metadata": {},
   "outputs": [],
   "source": [
    "mn = data.mean(axis=0)\n",
    "data_mean = np.tile(mn, (data.shape[0], 1))"
   ]
  },
  {
   "cell_type": "markdown",
   "id": "dc2d47a0",
   "metadata": {},
   "source": [
    "The syntax is basically saying: \"take that original 1 x 3 array, and stack it on itself. We want to stack it as many times as we have data points\" (that's what data.shape[0] gives us)"
   ]
  },
  {
   "cell_type": "code",
   "execution_count": 346,
   "id": "4d4fef5e",
   "metadata": {},
   "outputs": [
    {
     "data": {
      "text/plain": [
       "array([[3.  , 3.75, 8.5 ],\n",
       "       [3.  , 3.75, 8.5 ],\n",
       "       [3.  , 3.75, 8.5 ],\n",
       "       [3.  , 3.75, 8.5 ]])"
      ]
     },
     "execution_count": 346,
     "metadata": {},
     "output_type": "execute_result"
    }
   ],
   "source": [
    "data_mean"
   ]
  },
  {
   "cell_type": "markdown",
   "id": "b7363c4a",
   "metadata": {},
   "source": [
    "let's then subtract off the mean, and multiply the matrix by its transpose."
   ]
  },
  {
   "cell_type": "code",
   "execution_count": 349,
   "id": "880940e1",
   "metadata": {},
   "outputs": [
    {
     "data": {
      "text/plain": [
       "array([[ 6.        , -3.66666667, -1.66666667],\n",
       "       [-3.66666667, 30.91666667, 31.16666667],\n",
       "       [-1.66666667, 31.16666667, 45.66666667]])"
      ]
     },
     "execution_count": 349,
     "metadata": {},
     "output_type": "execute_result"
    }
   ],
   "source": [
    "d = data - data_mean\n",
    "cov = (1/3) * np.matmul(d.T, d)\n",
    "cov"
   ]
  },
  {
   "cell_type": "markdown",
   "id": "f652db98",
   "metadata": {},
   "source": [
    "Should look pretty familiar! "
   ]
  },
  {
   "cell_type": "code",
   "execution_count": 350,
   "id": "ac341469",
   "metadata": {},
   "outputs": [
    {
     "data": {
      "text/html": [
       "<div>\n",
       "<style scoped>\n",
       "    .dataframe tbody tr th:only-of-type {\n",
       "        vertical-align: middle;\n",
       "    }\n",
       "\n",
       "    .dataframe tbody tr th {\n",
       "        vertical-align: top;\n",
       "    }\n",
       "\n",
       "    .dataframe thead th {\n",
       "        text-align: right;\n",
       "    }\n",
       "</style>\n",
       "<table border=\"1\" class=\"dataframe\">\n",
       "  <thead>\n",
       "    <tr style=\"text-align: right;\">\n",
       "      <th></th>\n",
       "      <th>hipp</th>\n",
       "      <th>ctx</th>\n",
       "      <th>cblm</th>\n",
       "    </tr>\n",
       "  </thead>\n",
       "  <tbody>\n",
       "    <tr>\n",
       "      <th>hipp</th>\n",
       "      <td>6.000000</td>\n",
       "      <td>-3.666667</td>\n",
       "      <td>-1.666667</td>\n",
       "    </tr>\n",
       "    <tr>\n",
       "      <th>ctx</th>\n",
       "      <td>-3.666667</td>\n",
       "      <td>30.916667</td>\n",
       "      <td>31.166667</td>\n",
       "    </tr>\n",
       "    <tr>\n",
       "      <th>cblm</th>\n",
       "      <td>-1.666667</td>\n",
       "      <td>31.166667</td>\n",
       "      <td>45.666667</td>\n",
       "    </tr>\n",
       "  </tbody>\n",
       "</table>\n",
       "</div>"
      ],
      "text/plain": [
       "          hipp        ctx       cblm\n",
       "hipp  6.000000  -3.666667  -1.666667\n",
       "ctx  -3.666667  30.916667  31.166667\n",
       "cblm -1.666667  31.166667  45.666667"
      ]
     },
     "execution_count": 350,
     "metadata": {},
     "output_type": "execute_result"
    }
   ],
   "source": [
    "df.cov()"
   ]
  },
  {
   "cell_type": "markdown",
   "id": "da0854cd",
   "metadata": {},
   "source": [
    "# Making Fake Data"
   ]
  },
  {
   "cell_type": "markdown",
   "id": "4323301c",
   "metadata": {},
   "source": [
    "Generating fake data is a useful skill. Not for reasons of sneakiness or deception, but for generating noisy, probabilistic data with some kind of 'typical' behavior. We use probability to generate 'fake' data from *known* underlying processes, and then use stats to 'recover' an appropriate, probabilistic description of our data. Obviously, in the real work, we're using stats to recover a probabilistic description of our data generating process when we're in the dark about how the data were actually generated. "
   ]
  },
  {
   "cell_type": "markdown",
   "id": "391891e2",
   "metadata": {},
   "source": [
    "To make this concrete, let's think about generating a distribution of resting potentials for a group of 200 neurons. They might have a typical resting potential of around -65mV, and shown normally distributed fluctuations around that value with a standard deviation of ~5 mv. In other words, we'd be not terribly surprised to see values as large as -60 mV, or as small as -70 mV, but we'd be quite surprised to something like -50 mV, or -80 mV. \n",
    "\n",
    "We'll create an array, X, with our resting potential values, and initialize it to -65 mV: "
   ]
  },
  {
   "cell_type": "code",
   "execution_count": 351,
   "id": "3fe8be4e",
   "metadata": {},
   "outputs": [],
   "source": [
    "X = np.ones(1000) * -65"
   ]
  },
  {
   "cell_type": "markdown",
   "id": "8b58d73a",
   "metadata": {},
   "source": [
    "The cell above creates an array of 100 ones, and then multiplies it by -65 to give us a 100 dimensional array of -65s. Let's next make some noisy fluctuations with the properties we desire (i.e. mean of zero and standard deviation of 5 mV)"
   ]
  },
  {
   "cell_type": "code",
   "execution_count": 352,
   "id": "9cce120a",
   "metadata": {},
   "outputs": [],
   "source": [
    "noise = 5 * np.random.randn(1000)  "
   ]
  },
  {
   "cell_type": "markdown",
   "id": "7b84c88f",
   "metadata": {},
   "source": [
    "Our 'fake data' is then just the sum of the deterministic part (-65 mV) + the random part: "
   ]
  },
  {
   "cell_type": "code",
   "execution_count": 353,
   "id": "2490b62a",
   "metadata": {
    "scrolled": true
   },
   "outputs": [
    {
     "data": {
      "image/png": "[encoded data removed]",
      "text/plain": [
       "<Figure size 640x480 with 1 Axes>"
      ]
     },
     "metadata": {},
     "output_type": "display_data"
    }
   ],
   "source": [
    "vrest = X + noise\n",
    "plt.hist(vrest,20);"
   ]
  },
  {
   "cell_type": "markdown",
   "id": "7ca4b3c5",
   "metadata": {},
   "source": [
    "Let's now assume that a neuron's threshold is described by a relatively simple relationship such that the threshold is 90% the resting potential, plus 15 mV. Or, mathematically: \n",
    "\n",
    "V_thresh = 0.9 x V_rest + 15"
   ]
  },
  {
   "cell_type": "code",
   "execution_count": 354,
   "id": "5d34a0c2",
   "metadata": {},
   "outputs": [],
   "source": [
    "vthresh = 0.9 * vrest + 15 "
   ]
  },
  {
   "cell_type": "markdown",
   "id": "34523d7b",
   "metadata": {},
   "source": [
    "If we plot vthresh vs. vrest, we get a line: "
   ]
  },
  {
   "cell_type": "code",
   "execution_count": 355,
   "id": "c58e5207",
   "metadata": {},
   "outputs": [
    {
     "data": {
      "image/png": "[encoded data removed]",
      "text/plain": [
       "<Figure size 640x480 with 1 Axes>"
      ]
     },
     "metadata": {},
     "output_type": "display_data"
    }
   ],
   "source": [
    "plt.scatter(vrest,vthresh);\n",
    "plt.xlabel('resting potential');\n",
    "plt.ylabel('threshold');"
   ]
  },
  {
   "cell_type": "markdown",
   "id": "21773844",
   "metadata": {},
   "source": [
    "You will pretty much never see data that look like that in the wild, unless your two variables just differ by a simple conversion factor (temp in degrees vs. temp in celsius, for example). Instead, the data will *imply* a lawful relationship, but not give it to you for free. You'll observe \"basically a line\", or \"basically a parabola\", only with some noisy fluctuation. \n",
    "\n",
    "Let's give our data some noisy fluctuations to make it more realistic. "
   ]
  },
  {
   "cell_type": "code",
   "execution_count": 356,
   "id": "677078b6",
   "metadata": {},
   "outputs": [
    {
     "data": {
      "image/png": "[encoded data removed]",
      "text/plain": [
       "<Figure size 640x480 with 1 Axes>"
      ]
     },
     "metadata": {},
     "output_type": "display_data"
    }
   ],
   "source": [
    "vthresh = vthresh + 3 * np.random.randn(1000)\n",
    "plt.scatter(vrest,vthresh);\n",
    "plt.xlabel('resting potential');\n",
    "plt.ylabel('threshold');"
   ]
  },
  {
   "cell_type": "markdown",
   "id": "0f1fd146",
   "metadata": {},
   "source": [
    "That's better! (Well.. I guess technically 'worse' ;-). Now, please go along with me on following pretense: let's imagine that knew nothing about how those data were generated, and that all we have at our disposal are a list noisy resting potentials, and a list of corresopnding noisy thresholds. We can plot them, and intuit that there's some relationship, but we wish to learn what this is. That's the *statistical* problem that life actually hands us: \"Here are some noisy measurements: make some assumptions and try to work your way backwards to an understanding of the true relationship that holds underneath all the noisy fluctuations.\" \n",
    "\n",
    "Remember that of course, we secretly know that the real realtionship is vthresh = 0.9 x vrest + 15. \n",
    "\n",
    "If our statistical procedure is able to spit back the numbers 0.9 and 15, that would be pretty cool. "
   ]
  },
  {
   "cell_type": "markdown",
   "id": "644f5739",
   "metadata": {},
   "source": [
    "# Linear Regression"
   ]
  },
  {
   "cell_type": "markdown",
   "id": "2f2d883f",
   "metadata": {},
   "source": [
    "Hidden under all that noise is a line, waiting to be freed! In principle, we could select any of a whole variety of models. Maybe there's some super 'wiggly' relationship that tracks every contour in the data. Maybe a line with a slight bow to it is the best description, etc. Our first job is to pick a magical box. We will create a magical box called LR: "
   ]
  },
  {
   "cell_type": "code",
   "execution_count": 357,
   "id": "78d1c191",
   "metadata": {},
   "outputs": [],
   "source": [
    "from sklearn.linear_model import LinearRegression\n",
    "\n",
    "LR = LinearRegression()"
   ]
  },
  {
   "cell_type": "markdown",
   "id": "2e44bad6",
   "metadata": {},
   "source": [
    "The way to think about LR is that it is an object which is all about fitting straight lines to data. All we've done is initialize, or instantiate it. You could think of us as having just created an empty array in numpy, or an empty dataframe in pandas. To breathe life into\n",
    "LR, we need to feed it some data. When feeding it data, we typically make a distinction between dependent and independent variables. A few terms are worth noting: \n",
    "\n",
    "'features'\n",
    "'targets' \n",
    "'independent variable'\n",
    "'dependent variable'"
   ]
  },
  {
   "cell_type": "code",
   "execution_count": 358,
   "id": "860c2aec",
   "metadata": {},
   "outputs": [],
   "source": [
    "X = vrest.reshape(-1,1)\n",
    "y = vthresh.reshape(-1,1)"
   ]
  },
  {
   "cell_type": "code",
   "execution_count": 359,
   "id": "e2af1b69",
   "metadata": {},
   "outputs": [],
   "source": [
    "regr = LR.fit(X,y)"
   ]
  },
  {
   "cell_type": "markdown",
   "id": "a21c1d74",
   "metadata": {},
   "source": [
    "Now, it's not just some generic object, but a special one that has been custom-fitted to our very own data! It has gone through some process which we're not going to worry a ton about (but which we discussed in class a bit) to identify *parameters*.\n",
    "\n",
    "We can now think of regr as a kind of oracle. We can peek in side and ask, what are the parameters? "
   ]
  },
  {
   "cell_type": "code",
   "execution_count": 360,
   "id": "b8da1471",
   "metadata": {},
   "outputs": [
    {
     "data": {
      "text/plain": [
       "array([[0.89110013]])"
      ]
     },
     "execution_count": 360,
     "metadata": {},
     "output_type": "execute_result"
    }
   ],
   "source": [
    "regr.coef_"
   ]
  },
  {
   "cell_type": "code",
   "execution_count": 361,
   "id": "2a64decc",
   "metadata": {},
   "outputs": [
    {
     "data": {
      "text/plain": [
       "array([14.40765922])"
      ]
     },
     "execution_count": 361,
     "metadata": {},
     "output_type": "execute_result"
    }
   ],
   "source": [
    "regr.intercept_"
   ]
  },
  {
   "cell_type": "markdown",
   "id": "e2e02df5",
   "metadata": {},
   "source": [
    "What is this telling us? It's saying: \"I did the best I can do, and I think what's going on here is that the data were generated by a process that multiplies X by 0.92, and then adds 16.613.\"\n",
    "\n",
    "Not a bad job, considering we **know** the data were created by a process that multiplied X by 0.9, and then added 15. We can inspect the model's prediciton by plotting the fitted line on the original graph: "
   ]
  },
  {
   "cell_type": "code",
   "execution_count": 362,
   "id": "bc3be976",
   "metadata": {},
   "outputs": [
    {
     "data": {
      "image/png": "[encoded data removed]",
      "text/plain": [
       "<Figure size 640x480 with 1 Axes>"
      ]
     },
     "metadata": {},
     "output_type": "display_data"
    }
   ],
   "source": [
    "a = regr.coef_\n",
    "b = regr.intercept_\n",
    "\n",
    "# our linear prediction\n",
    "y_predicted = a * vrest + b\n",
    "\n",
    "# original data w/ linear fit superimposed\n",
    "plt.scatter(vrest, vthresh)\n",
    "plt.plot(vrest.reshape(-1,1),y_predicted.reshape(-1,1),'r');"
   ]
  },
  {
   "cell_type": "markdown",
   "id": "25e09ea5",
   "metadata": {},
   "source": [
    "One of the big virtues of having a fitted model is that we can now use it to do *prediction*. Say someone comes along with a measured membrane voltage of -45mV and they wanted to estimate what that neuron's threshold is likely to be. With your formula, this is an easy prediction to do. The regression object we created has a handy syntax for this as well:  "
   ]
  },
  {
   "cell_type": "code",
   "execution_count": 363,
   "id": "9d66b437",
   "metadata": {},
   "outputs": [
    {
     "data": {
      "text/plain": [
       "array([[-25.6918468]])"
      ]
     },
     "execution_count": 363,
     "metadata": {},
     "output_type": "execute_result"
    }
   ],
   "source": [
    "LR.predict(np.array([-45]).reshape(-1,1))"
   ]
  },
  {
   "cell_type": "markdown",
   "id": "5d4a3be2",
   "metadata": {},
   "source": [
    "If you look at the red line in the plot above, it certainly seems plausible that at -45 mV, we'd have a y value of ~-25, as predicted. The reshape() command above is just a little bit of hocus-pocus because the predict() function expects arrays to be formatted a certain way. The important thing is that we fed it the number -45, and the model spat back a prediction of around -25. \n",
    "\n",
    "We can also ask our model to tell us how good of a job it did by giving us a 'score':"
   ]
  },
  {
   "cell_type": "code",
   "execution_count": 364,
   "id": "ce9e6a68",
   "metadata": {},
   "outputs": [
    {
     "data": {
      "text/plain": [
       "0.683034791727744"
      ]
     },
     "execution_count": 364,
     "metadata": {},
     "output_type": "execute_result"
    }
   ],
   "source": [
    "LR.score(X,y)"
   ]
  },
  {
   "cell_type": "markdown",
   "id": "519539e4",
   "metadata": {},
   "source": [
    "The exact metric being used as a score varies with the choice of model, but in this case the score is the familiar correlation coefficient. Good scores are close to '1'.\n"
   ]
  },
  {
   "cell_type": "markdown",
   "id": "d3674dd6",
   "metadata": {},
   "source": [
    "# A more complex (and more typical) example\n",
    "\n",
    "There are some intersting phenomena out there that show linear behavior, but life would be pretty boring if we were limited to linearity. Suppose that the threshold actually had a slightly more complicated dependence on resting potential."
   ]
  },
  {
   "cell_type": "code",
   "execution_count": 365,
   "id": "e04437ec",
   "metadata": {},
   "outputs": [
    {
     "data": {
      "image/png": "[encoded data removed]",
      "text/plain": [
       "<Figure size 640x480 with 1 Axes>"
      ]
     },
     "metadata": {},
     "output_type": "display_data"
    }
   ],
   "source": [
    "vthresh = 20 + vrest + .09 * (vrest + 65) ** 2 + 1.5 * np.random.randn(1000)\n",
    "plt.scatter(vrest, vthresh);"
   ]
  },
  {
   "cell_type": "markdown",
   "id": "731c366c",
   "metadata": {},
   "source": [
    "Let's just do our analysis all over again and see how we do with a linear fit: "
   ]
  },
  {
   "cell_type": "code",
   "execution_count": 366,
   "id": "61d6960c",
   "metadata": {},
   "outputs": [
    {
     "data": {
      "image/png": "[encoded data removed]",
      "text/plain": [
       "<Figure size 640x480 with 1 Axes>"
      ]
     },
     "metadata": {},
     "output_type": "display_data"
    }
   ],
   "source": [
    "X = vrest.reshape(-1,1)\n",
    "y = vthresh.reshape(-1,1)\n",
    "\n",
    "# Initialize a new regression object\n",
    "LR  = LinearRegression()\n",
    "\n",
    "# Fit \n",
    "regr = LR.fit(X,y)\n",
    "\n",
    "# Get the model coefficients and use them to predict\n",
    "a = regr.coef_\n",
    "b = regr.intercept_\n",
    "\n",
    "# Get a predicted value for the threshold, based on our fitted model\n",
    "vthresh_predicted = a * vrest + b \n",
    "\n",
    "plt.scatter(vrest, vthresh);\n",
    "plt.plot(vrest.reshape(-1,1), vthresh_predicted.reshape(-1,1),'r');"
   ]
  },
  {
   "cell_type": "markdown",
   "id": "64e167ce",
   "metadata": {},
   "source": [
    "Ick. If we ask our model to tell us what we think the threshold is for a neuron with a resting potential of -85, it's going to be disastrously off:"
   ]
  },
  {
   "cell_type": "code",
   "execution_count": 367,
   "id": "133d444a",
   "metadata": {},
   "outputs": [
    {
     "data": {
      "text/plain": [
       "array([[-56.62779531]])"
      ]
     },
     "execution_count": 367,
     "metadata": {},
     "output_type": "execute_result"
    }
   ],
   "source": [
    "LR.predict(np.array([-80]).reshape(-1,1))"
   ]
  },
  {
   "cell_type": "markdown",
   "id": "6bd5ca94",
   "metadata": {},
   "source": [
    "And our overall score is crummy now too...."
   ]
  },
  {
   "cell_type": "code",
   "execution_count": 368,
   "id": "990e8066",
   "metadata": {},
   "outputs": [
    {
     "data": {
      "text/plain": [
       "0.6440862929904563"
      ]
     },
     "execution_count": 368,
     "metadata": {},
     "output_type": "execute_result"
    }
   ],
   "source": [
    "LR.score(X,y)"
   ]
  },
  {
   "cell_type": "markdown",
   "id": "c2497803",
   "metadata": {},
   "source": [
    "This should be pretty unsurprising. I mean, there's only so well a line is going to fit the data if the data aren't linear. "
   ]
  },
  {
   "cell_type": "markdown",
   "id": "8ddd86b6",
   "metadata": {},
   "source": [
    "# Fitting another model"
   ]
  },
  {
   "cell_type": "markdown",
   "id": "82cbda2c",
   "metadata": {},
   "source": [
    "So let's try again. We're going to use a model with a lot more flexibility. Something called K-nearest-neighbors (called 'KNN' for short, sometimes). If linear regression was a toy version of the universe that says \"I think there's a simple multiplicative and additive relationship between features\", then KNN says: \"I think everything can be explained by what my neighbors are doing.\" We won't go too much into this. I just want to make the important larger point that we can throw lots of different models at the data, and the syntax and procedure is all very similar: "
   ]
  },
  {
   "cell_type": "code",
   "execution_count": 369,
   "id": "69b3fa14",
   "metadata": {},
   "outputs": [
    {
     "data": {
      "text/plain": [
       "[<matplotlib.lines.Line2D at 0x7fa822f34460>]"
      ]
     },
     "execution_count": 369,
     "metadata": {},
     "output_type": "execute_result"
    },
    {
     "data": {
      "image/png": "[encoded data removed]",
      "text/plain": [
       "<Figure size 640x480 with 1 Axes>"
      ]
     },
     "metadata": {},
     "output_type": "display_data"
    }
   ],
   "source": [
    "# Import the new model\n",
    "from sklearn.neighbors import KNeighborsRegressor\n",
    "\n",
    "# Create an Instance of the model\n",
    "KNN = KNeighborsRegressor(n_neighbors=10)\n",
    "\n",
    "# Fit the model\n",
    "knn = KNN.fit(X,y)\n",
    "\n",
    "# Make predictions based on the model\n",
    "knn_predictions = knn.predict(np.sort(X, axis=0))\n",
    "\n",
    "plt.scatter(vrest, vthresh)\n",
    "plt.plot(np.sort(vrest,axis=0), knn_predictions, 'r')"
   ]
  },
  {
   "cell_type": "markdown",
   "id": "4136a9bc",
   "metadata": {},
   "source": [
    "When we look at the score this time we see that it's doing quite well: "
   ]
  },
  {
   "cell_type": "code",
   "execution_count": 370,
   "id": "1e9c69aa",
   "metadata": {},
   "outputs": [
    {
     "data": {
      "text/plain": [
       "0.9323145499143832"
      ]
     },
     "execution_count": 370,
     "metadata": {},
     "output_type": "execute_result"
    }
   ],
   "source": [
    "knn.score(X,y)"
   ]
  },
  {
   "cell_type": "markdown",
   "id": "8940e5ef",
   "metadata": {},
   "source": [
    "# Making it more real:"
   ]
  },
  {
   "cell_type": "markdown",
   "id": "913642d1",
   "metadata": {},
   "source": [
    "Here we do some model-fitting on a real dataset: the ephys data from the Allen Institute. It's illustrative of some of the practical issues you're likely to encounter in the wild. "
   ]
  },
  {
   "cell_type": "code",
   "execution_count": 388,
   "id": "afbcab7a",
   "metadata": {},
   "outputs": [],
   "source": [
    "from allensdk.core.cell_types_cache import CellTypesCache\n",
    "\n",
    "ctc = CellTypesCache(manifest_file='cell_types/manifest.json')\n",
    "features = pd.DataFrame(ctc.get_all_features()).loc[:,'adaptation':'vrest']"
   ]
  },
  {
   "cell_type": "markdown",
   "id": "fe8a0ea2",
   "metadata": {},
   "source": [
    "Right off the bat, you'll note that we have a decent number of entries where we see NaN instead of an expected numerical value. NaN stands or \"not a number\", and basically just means that data are missing at that particular entry. Most fitting procedures will yell at you if you try to feed them Nans, so we have to deal with them somehow. There are two basic approaches. \n",
    "\n",
    "The first is you can just drop any row that has Nans in it. Let's take a peek at how much data we have in our features dataframe:"
   ]
  },
  {
   "cell_type": "code",
   "execution_count": 391,
   "id": "6dbeed2e",
   "metadata": {},
   "outputs": [
    {
     "data": {
      "text/plain": [
       "(701, 56)"
      ]
     },
     "execution_count": 391,
     "metadata": {},
     "output_type": "execute_result"
    }
   ],
   "source": [
    "features.shape"
   ]
  },
  {
   "cell_type": "markdown",
   "id": "b675dd79",
   "metadata": {},
   "source": [
    "Looks like 701 cells. Pandas has a handy function that drop Nans for us, which we can use to aggresively kill all Nans:"
   ]
  },
  {
   "cell_type": "code",
   "execution_count": 393,
   "id": "77c7b43b",
   "metadata": {},
   "outputs": [
    {
     "data": {
      "text/plain": [
       "(200, 56)"
      ]
     },
     "execution_count": 393,
     "metadata": {},
     "output_type": "execute_result"
    }
   ],
   "source": [
    "features.dropna().shape"
   ]
  },
  {
   "cell_type": "markdown",
   "id": "3efe579f",
   "metadata": {},
   "source": [
    "Yikes! that dropped an awful lot of data. Perhaps that's a bit over the top. If a cell is missing one entry for one feature it's going to get dropped using this method. We've thrown away about 500 cells doing this, which is tossing an awful lot of data. Another tool at our disposal is **imputation**, which refers to a set of procedures for trying to fill in nans with some fixed value, or taking a best guess as to what value it should have. Scikit learn has a function called an imputer to help us with this. "
   ]
  },
  {
   "cell_type": "code",
   "execution_count": 452,
   "id": "775ac693",
   "metadata": {},
   "outputs": [],
   "source": [
    "from sklearn.impute import SimpleImputer\n",
    "\n",
    "imputer = SimpleImputer()\n",
    "features_imputed = imputer.fit_transform(features)\n",
    "features_imputed = pd.DataFrame(data=features_imputed, columns=features.columns)"
   ]
  },
  {
   "cell_type": "code",
   "execution_count": 453,
   "id": "a24f5beb",
   "metadata": {},
   "outputs": [],
   "source": [
    "features_imputed = features_imputed[['f_i_curve_slope', 'input_resistance_mohm', 'tau', 'vrest', 'sag']]"
   ]
  },
  {
   "cell_type": "code",
   "execution_count": 454,
   "id": "7536994a",
   "metadata": {},
   "outputs": [
    {
     "data": {
      "text/plain": [
       "array([[ 3.73168201e-04, -1.42311268e-02,  6.66147023e-03,\n",
       "        -7.13264195e-01]])"
      ]
     },
     "execution_count": 454,
     "metadata": {},
     "output_type": "execute_result"
    }
   ],
   "source": [
    "# Let's say we want to try to predict adaptation from the other variables: \n",
    "\n",
    "y = features_imputed['f_i_curve_slope'].to_numpy().reshape(-1,1)\n",
    "X = features_imputed.loc[:,'input_resistance_mohm':].to_numpy()\n",
    "\n",
    "# The template is exactly the same, that's what makes it so powerful. \n",
    "regr = LinearRegression()\n",
    "regr.fit(X,y)\n",
    "\n",
    "# If we ask for the coefficients, note that it spits back 4 numbers to us this time. That's because we have 4\n",
    "# variables that we're asking to explain adaptation. The sizes of the coefficients are telling us the relative \n",
    "# importance of variable. Looks like the sag current shows the strongest correlation with adaptation. \n",
    "\n",
    "regr.coef_"
   ]
  },
  {
   "cell_type": "markdown",
   "id": "c5bb0375",
   "metadata": {},
   "source": [
    "Let's have a look at the relative contributions of each variable (as indicated by the size of the coefficent from the regression)"
   ]
  },
  {
   "cell_type": "code",
   "execution_count": 455,
   "id": "92fdaf26",
   "metadata": {},
   "outputs": [
    {
     "data": {
      "text/plain": [
       "[<matplotlib.lines.Line2D at 0x7fa7d7508a30>]"
      ]
     },
     "execution_count": 455,
     "metadata": {},
     "output_type": "execute_result"
    },
    {
     "data": {
      "image/png": "[encoded data removed]",
      "text/plain": [
       "<Figure size 640x480 with 1 Axes>"
      ]
     },
     "metadata": {},
     "output_type": "display_data"
    }
   ],
   "source": [
    "plt.plot(features_imputed.columns[1:].to_numpy(), regr.coef_.reshape(-1,1))"
   ]
  },
  {
   "cell_type": "markdown",
   "id": "b45fb00d",
   "metadata": {},
   "source": [
    "It's fair to ask whether some of those smaller coefficients really matter at all."
   ]
  },
  {
   "cell_type": "code",
   "execution_count": 456,
   "id": "259ecd0f",
   "metadata": {},
   "outputs": [
    {
     "data": {
      "text/plain": [
       "0.22215495618463266"
      ]
     },
     "execution_count": 456,
     "metadata": {},
     "output_type": "execute_result"
    }
   ],
   "source": [
    "regr.score(X,y)"
   ]
  },
  {
   "cell_type": "code",
   "execution_count": 457,
   "id": "b75107fe",
   "metadata": {},
   "outputs": [
    {
     "data": {
      "text/plain": [
       "Index(['adaptation', 'avg_isi', 'electrode_0_pa', 'f_i_curve_slope',\n",
       "       'fast_trough_t_long_square', 'fast_trough_t_ramp',\n",
       "       'fast_trough_t_short_square', 'fast_trough_v_long_square',\n",
       "       'fast_trough_v_ramp', 'fast_trough_v_short_square', 'has_burst',\n",
       "       'has_delay', 'has_pause', 'id_x', 'input_resistance_mohm', 'latency',\n",
       "       'peak_t_long_square', 'peak_t_ramp', 'peak_t_short_square',\n",
       "       'peak_v_long_square', 'peak_v_ramp', 'peak_v_short_square',\n",
       "       'rheobase_sweep_id', 'rheobase_sweep_number', 'ri', 'sag', 'seal_gohm',\n",
       "       'slow_trough_t_long_square', 'slow_trough_t_ramp',\n",
       "       'slow_trough_t_short_square', 'slow_trough_v_long_square',\n",
       "       'slow_trough_v_ramp', 'slow_trough_v_short_square', 'specimen_id',\n",
       "       'tau', 'threshold_i_long_square', 'threshold_i_ramp',\n",
       "       'threshold_i_short_square', 'threshold_t_long_square',\n",
       "       'threshold_t_ramp', 'threshold_t_short_square',\n",
       "       'threshold_v_long_square', 'threshold_v_ramp',\n",
       "       'threshold_v_short_square', 'thumbnail_sweep_id',\n",
       "       'trough_t_long_square', 'trough_t_ramp', 'trough_t_short_square',\n",
       "       'trough_v_long_square', 'trough_v_ramp', 'trough_v_short_square',\n",
       "       'upstroke_downstroke_ratio_long_square',\n",
       "       'upstroke_downstroke_ratio_ramp',\n",
       "       'upstroke_downstroke_ratio_short_square', 'vm_for_sag', 'vrest'],\n",
       "      dtype='object')"
      ]
     },
     "execution_count": 457,
     "metadata": {},
     "output_type": "execute_result"
    }
   ],
   "source": [
    "features.columns"
   ]
  },
  {
   "cell_type": "code",
   "execution_count": 460,
   "id": "7701e840",
   "metadata": {},
   "outputs": [
    {
     "data": {
      "text/plain": [
       "array([[ 1.90139614e-08,  2.75506650e-11, -1.58262919e-11,\n",
       "         9.99999998e-01, -2.61483525e-07,  7.92827811e-08,\n",
       "        -1.38995483e-05, -2.63180516e-09,  2.31439226e-09,\n",
       "         2.14186295e-09,  2.30689658e-08, -2.79027186e-08,\n",
       "        -6.67032400e-09,  3.33066907e-16, -1.25353677e-12,\n",
       "         2.48153045e-08,  8.32864214e-07,  7.31739331e-08,\n",
       "        -1.47985911e-06,  1.38153392e-10, -2.94854622e-11,\n",
       "         1.01986526e-10, -6.93753943e-11, -7.79105784e-11,\n",
       "        -1.16879076e-10,  6.49255098e-10,  2.07757911e-10,\n",
       "        -3.20163382e-11, -7.09313862e-11,  5.40649605e-10,\n",
       "         2.88702475e-10, -1.77104325e-11,  7.28648144e-11,\n",
       "         5.55111512e-17,  3.47306814e-10,  3.62733498e-11,\n",
       "         1.61930758e-09, -2.98159136e-11, -5.42700276e-07,\n",
       "        -1.89189132e-07,  1.70591440e-06, -5.97073974e-12,\n",
       "        -2.20204833e-11, -3.31853156e-11,  6.93752278e-11,\n",
       "        -3.66250582e-10, -3.21236664e-09, -6.75774316e-10,\n",
       "         1.50478224e-10,  1.49122117e-10,  3.07404687e-10,\n",
       "         4.05215981e-10, -1.61999104e-11, -2.25937274e-10,\n",
       "         8.78960002e-12,  1.82782504e-10]])"
      ]
     },
     "execution_count": 460,
     "metadata": {},
     "output_type": "execute_result"
    }
   ],
   "source": [
    "y = features['f_i_curve_slope'].to_numpy().reshape(-1,1)\n",
    "X = features.loc[:,'fast_trough_t_long_square':].to_numpy()\n",
    "X = imputer.fit_transform(features)\n",
    "# The template is exactly the same, that's what makes it so powerful. \n",
    "regr = LinearRegression()\n",
    "regr.fit(X,y)\n",
    "\n",
    "# If we ask for the coefficients, note that it spits back 4 numbers to us this time. That's because we have 4\n",
    "# variables that we're asking to explain adaptation. The sizes of the coefficients are telling us the relative \n",
    "# importance of variable. Looks like the sag current shows the strongest correlation with adaptation. \n",
    "\n",
    "regr.coef_"
   ]
  },
  {
   "cell_type": "code",
   "execution_count": 467,
   "id": "1113aa0a",
   "metadata": {},
   "outputs": [
    {
     "name": "stderr",
     "output_type": "stream",
     "text": [
      "/Applications/anaconda3/lib/python3.8/site-packages/statsmodels/compat/pandas.py:61: FutureWarning: pandas.Int64Index is deprecated and will be removed from pandas in a future version. Use pandas.Index with the appropriate dtype instead.\n",
      "  from pandas import Int64Index as NumericIndex\n"
     ]
    }
   ],
   "source": [
    "import statsmodels.api as sm\n",
    "import statsmodels.formula.api as smf\n",
    "\n",
    "d = features_imputed"
   ]
  },
  {
   "cell_type": "code",
   "execution_count": 473,
   "id": "eb4a203f",
   "metadata": {},
   "outputs": [],
   "source": [
    "features_imputed\n",
    "\n",
    "results = smf.ols('f_i_curve_slope ~ f_i_curve_slope + sag + tau', data=features_imputed).fit()"
   ]
  },
  {
   "cell_type": "code",
   "execution_count": 474,
   "id": "ad48b06d",
   "metadata": {},
   "outputs": [
    {
     "name": "stdout",
     "output_type": "stream",
     "text": [
      "                            OLS Regression Results                            \n",
      "==============================================================================\n",
      "Dep. Variable:        f_i_curve_slope   R-squared:                       1.000\n",
      "Model:                            OLS   Adj. R-squared:                  1.000\n",
      "Method:                 Least Squares   F-statistic:                 4.341e+29\n",
      "Date:                Sun, 05 Feb 2023   Prob (F-statistic):               0.00\n",
      "Time:                        06:41:55   Log-Likelihood:                 21797.\n",
      "No. Observations:                 701   AIC:                        -4.359e+04\n",
      "Df Residuals:                     697   BIC:                        -4.357e+04\n",
      "Df Model:                           3                                         \n",
      "Covariance Type:            nonrobust                                         \n",
      "===================================================================================\n",
      "                      coef    std err          t      P>|t|      [0.025      0.975]\n",
      "-----------------------------------------------------------------------------------\n",
      "Intercept        5.274e-15   8.95e-16      5.889      0.000    3.52e-15    7.03e-15\n",
      "f_i_curve_slope     1.0000   9.73e-16   1.03e+15      0.000       1.000       1.000\n",
      "sag             -1.027e-15   4.18e-15     -0.246      0.806   -9.23e-15    7.18e-15\n",
      "tau              1.184e-16      3e-17      3.946      0.000    5.95e-17    1.77e-16\n",
      "==============================================================================\n",
      "Omnibus:                      153.054   Durbin-Watson:                   0.052\n",
      "Prob(Omnibus):                  0.000   Jarque-Bera (JB):              317.426\n",
      "Skew:                          -1.208   Prob(JB):                     1.18e-69\n",
      "Kurtosis:                       5.244   Cond. No.                         323.\n",
      "==============================================================================\n",
      "\n",
      "Notes:\n",
      "[1] Standard Errors assume that the covariance matrix of the errors is correctly specified.\n"
     ]
    }
   ],
   "source": [
    "print(results.summary())"
   ]
  },
  {
   "cell_type": "code",
   "execution_count": null,
   "id": "655b3e44",
   "metadata": {},
   "outputs": [],
   "source": []
  }
 ],
 "metadata": {
  "kernelspec": {
   "display_name": "Python 3 (ipykernel)",
   "language": "python",
   "name": "python3"
  },
  "language_info": {
   "codemirror_mode": {
    "name": "ipython",
    "version": 3
   },
   "file_extension": ".py",
   "mimetype": "text/x-python",
   "name": "python",
   "nbconvert_exporter": "python",
   "pygments_lexer": "ipython3",
   "version": "3.8.8"
  }
 },
 "nbformat": 4,
 "nbformat_minor": 5
}
