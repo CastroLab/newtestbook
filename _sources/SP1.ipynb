{
 "cells": [
  {
   "cell_type": "markdown",
   "id": "5ec0ee53",
   "metadata": {},
   "source": [
    "### Strategic practice 1 (SP1)\n",
    "\n",
    "I've borrowed the term 'Strategic Practice' from Prof. Joseph Blitzstein, who teaches a fantastic and deservedly famous class in Statistics at Harvard. The term 'Homework' just smacks of drudgery to me, and lacks the aspirational flavor I'm going for. 'Problems' are very important, and are opportunities for real growth, but I think of them more as being about creativity, and the deep integration of ideas and approaches across different domains. We're not quite there yet. 'Strategic practice' places the emphasis on gaining more familiarity with the fundamental skills and idioms that will be needed for more interesting problems later on."
   ]
  },
  {
   "cell_type": "markdown",
   "id": "4a2431d2",
   "metadata": {},
   "source": [
    "### Setup and Background\n",
    "\n",
    "You'll want to open up a Jupyter notebook and run the following block of code. This imports libraries you'll need to do SP1, as well as a toy dataset that we'll be using. 'Toy' is not meant disparagingly -- it just refers to the fact that the dataset is clean, not too huge, used often as a standard, and good for illustrating certain themes. 'Real' data is usually a gnarled and terrifying mess (at least at first), and aspires to be like a toy dataset ;-) "
   ]
  },
  {
   "cell_type": "code",
   "execution_count": 3,
   "id": "f6607873",
   "metadata": {},
   "outputs": [],
   "source": [
    "import numpy as np\n",
    "import pandas as pd\n",
    "import seaborn as sns\n",
    "mpg = sns.load_dataset('mpg')"
   ]
  },
  {
   "cell_type": "markdown",
   "id": "7f483966",
   "metadata": {},
   "source": [
    "Let's take a quick look at what we've got: "
   ]
  },
  {
   "cell_type": "code",
   "execution_count": 4,
   "id": "a011e5e9",
   "metadata": {
    "scrolled": false
   },
   "outputs": [
    {
     "data": {
      "text/html": [
       "<div>\n",
       "<style scoped>\n",
       "    .dataframe tbody tr th:only-of-type {\n",
       "        vertical-align: middle;\n",
       "    }\n",
       "\n",
       "    .dataframe tbody tr th {\n",
       "        vertical-align: top;\n",
       "    }\n",
       "\n",
       "    .dataframe thead th {\n",
       "        text-align: right;\n",
       "    }\n",
       "</style>\n",
       "<table border=\"1\" class=\"dataframe\">\n",
       "  <thead>\n",
       "    <tr style=\"text-align: right;\">\n",
       "      <th></th>\n",
       "      <th>mpg</th>\n",
       "      <th>cylinders</th>\n",
       "      <th>displacement</th>\n",
       "      <th>horsepower</th>\n",
       "      <th>weight</th>\n",
       "      <th>acceleration</th>\n",
       "      <th>model_year</th>\n",
       "      <th>origin</th>\n",
       "      <th>name</th>\n",
       "    </tr>\n",
       "  </thead>\n",
       "  <tbody>\n",
       "    <tr>\n",
       "      <th>0</th>\n",
       "      <td>18.0</td>\n",
       "      <td>8</td>\n",
       "      <td>307.0</td>\n",
       "      <td>130.0</td>\n",
       "      <td>3504</td>\n",
       "      <td>12.0</td>\n",
       "      <td>70</td>\n",
       "      <td>usa</td>\n",
       "      <td>chevrolet chevelle malibu</td>\n",
       "    </tr>\n",
       "    <tr>\n",
       "      <th>1</th>\n",
       "      <td>15.0</td>\n",
       "      <td>8</td>\n",
       "      <td>350.0</td>\n",
       "      <td>165.0</td>\n",
       "      <td>3693</td>\n",
       "      <td>11.5</td>\n",
       "      <td>70</td>\n",
       "      <td>usa</td>\n",
       "      <td>buick skylark 320</td>\n",
       "    </tr>\n",
       "    <tr>\n",
       "      <th>2</th>\n",
       "      <td>18.0</td>\n",
       "      <td>8</td>\n",
       "      <td>318.0</td>\n",
       "      <td>150.0</td>\n",
       "      <td>3436</td>\n",
       "      <td>11.0</td>\n",
       "      <td>70</td>\n",
       "      <td>usa</td>\n",
       "      <td>plymouth satellite</td>\n",
       "    </tr>\n",
       "    <tr>\n",
       "      <th>3</th>\n",
       "      <td>16.0</td>\n",
       "      <td>8</td>\n",
       "      <td>304.0</td>\n",
       "      <td>150.0</td>\n",
       "      <td>3433</td>\n",
       "      <td>12.0</td>\n",
       "      <td>70</td>\n",
       "      <td>usa</td>\n",
       "      <td>amc rebel sst</td>\n",
       "    </tr>\n",
       "    <tr>\n",
       "      <th>4</th>\n",
       "      <td>17.0</td>\n",
       "      <td>8</td>\n",
       "      <td>302.0</td>\n",
       "      <td>140.0</td>\n",
       "      <td>3449</td>\n",
       "      <td>10.5</td>\n",
       "      <td>70</td>\n",
       "      <td>usa</td>\n",
       "      <td>ford torino</td>\n",
       "    </tr>\n",
       "  </tbody>\n",
       "</table>\n",
       "</div>"
      ],
      "text/plain": [
       "    mpg  cylinders  displacement  horsepower  weight  acceleration  \\\n",
       "0  18.0          8         307.0       130.0    3504          12.0   \n",
       "1  15.0          8         350.0       165.0    3693          11.5   \n",
       "2  18.0          8         318.0       150.0    3436          11.0   \n",
       "3  16.0          8         304.0       150.0    3433          12.0   \n",
       "4  17.0          8         302.0       140.0    3449          10.5   \n",
       "\n",
       "   model_year origin                       name  \n",
       "0          70    usa  chevrolet chevelle malibu  \n",
       "1          70    usa          buick skylark 320  \n",
       "2          70    usa         plymouth satellite  \n",
       "3          70    usa              amc rebel sst  \n",
       "4          70    usa                ford torino  "
      ]
     },
     "execution_count": 4,
     "metadata": {},
     "output_type": "execute_result"
    }
   ],
   "source": [
    "mpg.head()"
   ]
  },
  {
   "cell_type": "markdown",
   "id": "3d889ebc",
   "metadata": {},
   "source": [
    "As you can see, it's a pandas dataframe with information about cars. Each row is a particular car, and for each car we have numerical measurements about its fuel economy, weight, horsepower, etc. We also have some 'label-like' information for each car ('origin', 'name', etc). Let's get started! "
   ]
  },
  {
   "cell_type": "markdown",
   "id": "2f128584",
   "metadata": {},
   "source": [
    "```{admonition} Question 1\n",
    ":class: seealso\n",
    "Create a markdown cell in your jupyter notebook. In that cell, write down two analyses or queries you think would be interesting to perform on this dataset (just in plain language, not code). Then, briefly describe what you think you might find, just based on intuition or prior knowledge.\n",
    "\n",
    "For example: \"It would be interesting to look at the relationship between _ and _. My hunch is that ____.\"\n",
    "```"
   ]
  },
  {
   "cell_type": "markdown",
   "id": "e15cf153",
   "metadata": {},
   "source": [
    "```{admonition} Question 2\n",
    ":class: seealso\n",
    "Which of the features in the mpg dataframe are *categorical variables*? (There may be more than one). Give a definition of a categorical variable. Enter your answer in a markdown cell. \n",
    "```"
   ]
  },
  {
   "cell_type": "markdown",
   "id": "c73b661a",
   "metadata": {},
   "source": [
    "### Practice with Pandas: histograms, scatterplots, correlation\n",
    "\n",
    "Did you ever wonder how many cylinders cars have, on average? Of course you have. The answer, at least according to this dataset, is 5.45 cylinders. That's a nice summary measure, but it doesn't tell us about the relative proportions of 4 vs. 5 vs. 6 vs. 8 cylinder cars. We might want to know about the **distribution** of cylinders, which we can get a better sense of through a **histogram**. "
   ]
  },
  {
   "cell_type": "code",
   "execution_count": 7,
   "id": "d754ba92",
   "metadata": {},
   "outputs": [
    {
     "data": {
      "image/png": "[encoded data removed]",
      "text/plain": [
       "<Figure size 640x480 with 1 Axes>"
      ]
     },
     "metadata": {},
     "output_type": "display_data"
    }
   ],
   "source": [
    "mpg['cylinders'].hist();"
   ]
  },
  {
   "cell_type": "markdown",
   "id": "b1cc58d0",
   "metadata": {},
   "source": [
    "The histogram is reporting the number of cars with a certain number of cylinders. Looks like most cars have 4. Interestingly, it seems there are very very few cars with an odd number of cylinders."
   ]
  },
  {
   "cell_type": "markdown",
   "id": "47e1b1a0",
   "metadata": {},
   "source": [
    "```{admonition} Question 3\n",
    ":class: seealso\n",
    " - Extract the 'weight' column from the mpg dataframe, and construct a histogram, as above. Interpret. \n",
    " - Look at pandas documentation as needed to figure out how to change the number of bins in the histogram. Then, show another histogram of the same data, but with 60 bins instead of the default number of bins. What is evident about the data in this histogram that was harder to appreciate in your first histogram?\n",
    "```"
   ]
  },
  {
   "cell_type": "markdown",
   "id": "a9a0c312",
   "metadata": {},
   "source": [
    "```{admonition} Question 4\n",
    ":class: seealso\n",
    " - Make a new dataframe, called mpg2 that consists of only the following colummns of the mpg dataset: displacement, horsepower, weight, and mpg. You may need to consult an earlier chapter for an example where we grabbed multiple columns.\n",
    " - Create a 4 x 4 scatter matrix of mpg2 (consult the earlier notebook).\n",
    " - Looking at the scatter matrix, discuss which variables you think are positively correlated, and which you think are negatively correlated. \n",
    "```"
   ]
  },
  {
   "cell_type": "markdown",
   "id": "2db77f50",
   "metadata": {},
   "source": [
    "```{admonition} Question 5\n",
    ":class: seealso\n",
    " - Construct a correlation matrix for the dataframe mpg2 (see the earlier notebook). Explain the relationship between this matrix, and the scattermatrix you made above. \n",
    "```"
   ]
  },
  {
   "cell_type": "code",
   "execution_count": 36,
   "id": "93fd3750",
   "metadata": {},
   "outputs": [
    {
     "data": {
      "text/html": [
       "<div>\n",
       "<style scoped>\n",
       "    .dataframe tbody tr th:only-of-type {\n",
       "        vertical-align: middle;\n",
       "    }\n",
       "\n",
       "    .dataframe tbody tr th {\n",
       "        vertical-align: top;\n",
       "    }\n",
       "\n",
       "    .dataframe thead th {\n",
       "        text-align: right;\n",
       "    }\n",
       "</style>\n",
       "<table border=\"1\" class=\"dataframe\">\n",
       "  <thead>\n",
       "    <tr style=\"text-align: right;\">\n",
       "      <th></th>\n",
       "      <th>mpg</th>\n",
       "      <th>cylinders</th>\n",
       "      <th>displacement</th>\n",
       "      <th>horsepower</th>\n",
       "      <th>weight</th>\n",
       "      <th>acceleration</th>\n",
       "      <th>model_year</th>\n",
       "      <th>origin</th>\n",
       "    </tr>\n",
       "    <tr>\n",
       "      <th>name</th>\n",
       "      <th></th>\n",
       "      <th></th>\n",
       "      <th></th>\n",
       "      <th></th>\n",
       "      <th></th>\n",
       "      <th></th>\n",
       "      <th></th>\n",
       "      <th></th>\n",
       "    </tr>\n",
       "  </thead>\n",
       "  <tbody>\n",
       "    <tr>\n",
       "      <th>amc ambassador brougham</th>\n",
       "      <td>1</td>\n",
       "      <td>1</td>\n",
       "      <td>1</td>\n",
       "      <td>1</td>\n",
       "      <td>1</td>\n",
       "      <td>1</td>\n",
       "      <td>1</td>\n",
       "      <td>1</td>\n",
       "    </tr>\n",
       "    <tr>\n",
       "      <th>amc ambassador dpl</th>\n",
       "      <td>1</td>\n",
       "      <td>1</td>\n",
       "      <td>1</td>\n",
       "      <td>1</td>\n",
       "      <td>1</td>\n",
       "      <td>1</td>\n",
       "      <td>1</td>\n",
       "      <td>1</td>\n",
       "    </tr>\n",
       "    <tr>\n",
       "      <th>amc ambassador sst</th>\n",
       "      <td>1</td>\n",
       "      <td>1</td>\n",
       "      <td>1</td>\n",
       "      <td>1</td>\n",
       "      <td>1</td>\n",
       "      <td>1</td>\n",
       "      <td>1</td>\n",
       "      <td>1</td>\n",
       "    </tr>\n",
       "    <tr>\n",
       "      <th>amc concord</th>\n",
       "      <td>2</td>\n",
       "      <td>2</td>\n",
       "      <td>2</td>\n",
       "      <td>2</td>\n",
       "      <td>2</td>\n",
       "      <td>2</td>\n",
       "      <td>2</td>\n",
       "      <td>2</td>\n",
       "    </tr>\n",
       "    <tr>\n",
       "      <th>amc concord d/l</th>\n",
       "      <td>1</td>\n",
       "      <td>1</td>\n",
       "      <td>1</td>\n",
       "      <td>1</td>\n",
       "      <td>1</td>\n",
       "      <td>1</td>\n",
       "      <td>1</td>\n",
       "      <td>1</td>\n",
       "    </tr>\n",
       "    <tr>\n",
       "      <th>...</th>\n",
       "      <td>...</td>\n",
       "      <td>...</td>\n",
       "      <td>...</td>\n",
       "      <td>...</td>\n",
       "      <td>...</td>\n",
       "      <td>...</td>\n",
       "      <td>...</td>\n",
       "      <td>...</td>\n",
       "    </tr>\n",
       "    <tr>\n",
       "      <th>vw dasher (diesel)</th>\n",
       "      <td>1</td>\n",
       "      <td>1</td>\n",
       "      <td>1</td>\n",
       "      <td>1</td>\n",
       "      <td>1</td>\n",
       "      <td>1</td>\n",
       "      <td>1</td>\n",
       "      <td>1</td>\n",
       "    </tr>\n",
       "    <tr>\n",
       "      <th>vw pickup</th>\n",
       "      <td>1</td>\n",
       "      <td>1</td>\n",
       "      <td>1</td>\n",
       "      <td>1</td>\n",
       "      <td>1</td>\n",
       "      <td>1</td>\n",
       "      <td>1</td>\n",
       "      <td>1</td>\n",
       "    </tr>\n",
       "    <tr>\n",
       "      <th>vw rabbit</th>\n",
       "      <td>2</td>\n",
       "      <td>2</td>\n",
       "      <td>2</td>\n",
       "      <td>2</td>\n",
       "      <td>2</td>\n",
       "      <td>2</td>\n",
       "      <td>2</td>\n",
       "      <td>2</td>\n",
       "    </tr>\n",
       "    <tr>\n",
       "      <th>vw rabbit c (diesel)</th>\n",
       "      <td>1</td>\n",
       "      <td>1</td>\n",
       "      <td>1</td>\n",
       "      <td>1</td>\n",
       "      <td>1</td>\n",
       "      <td>1</td>\n",
       "      <td>1</td>\n",
       "      <td>1</td>\n",
       "    </tr>\n",
       "    <tr>\n",
       "      <th>vw rabbit custom</th>\n",
       "      <td>1</td>\n",
       "      <td>1</td>\n",
       "      <td>1</td>\n",
       "      <td>1</td>\n",
       "      <td>1</td>\n",
       "      <td>1</td>\n",
       "      <td>1</td>\n",
       "      <td>1</td>\n",
       "    </tr>\n",
       "  </tbody>\n",
       "</table>\n",
       "<p>305 rows × 8 columns</p>\n",
       "</div>"
      ],
      "text/plain": [
       "                         mpg  cylinders  displacement  horsepower  weight  \\\n",
       "name                                                                        \n",
       "amc ambassador brougham    1          1             1           1       1   \n",
       "amc ambassador dpl         1          1             1           1       1   \n",
       "amc ambassador sst         1          1             1           1       1   \n",
       "amc concord                2          2             2           2       2   \n",
       "amc concord d/l            1          1             1           1       1   \n",
       "...                      ...        ...           ...         ...     ...   \n",
       "vw dasher (diesel)         1          1             1           1       1   \n",
       "vw pickup                  1          1             1           1       1   \n",
       "vw rabbit                  2          2             2           2       2   \n",
       "vw rabbit c (diesel)       1          1             1           1       1   \n",
       "vw rabbit custom           1          1             1           1       1   \n",
       "\n",
       "                         acceleration  model_year  origin  \n",
       "name                                                       \n",
       "amc ambassador brougham             1           1       1  \n",
       "amc ambassador dpl                  1           1       1  \n",
       "amc ambassador sst                  1           1       1  \n",
       "amc concord                         2           2       2  \n",
       "amc concord d/l                     1           1       1  \n",
       "...                               ...         ...     ...  \n",
       "vw dasher (diesel)                  1           1       1  \n",
       "vw pickup                           1           1       1  \n",
       "vw rabbit                           2           2       2  \n",
       "vw rabbit c (diesel)                1           1       1  \n",
       "vw rabbit custom                    1           1       1  \n",
       "\n",
       "[305 rows x 8 columns]"
      ]
     },
     "execution_count": 36,
     "metadata": {},
     "output_type": "execute_result"
    }
   ],
   "source": [
    "# This snippet of code groups the cars by country of origin, and counts the total number of cars in each category:\n",
    "\n",
    "mpg.groupby(by=['name']).count()"
   ]
  },
  {
   "cell_type": "markdown",
   "id": "b5d6f507",
   "metadata": {},
   "source": [
    "### QUESTION: \n",
    "\n",
    "Can you write a very similar statement to the above that groups the data not by car name, but by country of origin, and then finds the average of each feature? "
   ]
  },
  {
   "cell_type": "code",
   "execution_count": 37,
   "id": "86cf4057",
   "metadata": {},
   "outputs": [
    {
     "data": {
      "text/html": [
       "<div>\n",
       "<style scoped>\n",
       "    .dataframe tbody tr th:only-of-type {\n",
       "        vertical-align: middle;\n",
       "    }\n",
       "\n",
       "    .dataframe tbody tr th {\n",
       "        vertical-align: top;\n",
       "    }\n",
       "\n",
       "    .dataframe thead th {\n",
       "        text-align: right;\n",
       "    }\n",
       "</style>\n",
       "<table border=\"1\" class=\"dataframe\">\n",
       "  <thead>\n",
       "    <tr style=\"text-align: right;\">\n",
       "      <th></th>\n",
       "      <th>mpg</th>\n",
       "      <th>cylinders</th>\n",
       "      <th>displacement</th>\n",
       "      <th>horsepower</th>\n",
       "      <th>weight</th>\n",
       "      <th>acceleration</th>\n",
       "      <th>model_year</th>\n",
       "    </tr>\n",
       "    <tr>\n",
       "      <th>origin</th>\n",
       "      <th></th>\n",
       "      <th></th>\n",
       "      <th></th>\n",
       "      <th></th>\n",
       "      <th></th>\n",
       "      <th></th>\n",
       "      <th></th>\n",
       "    </tr>\n",
       "  </thead>\n",
       "  <tbody>\n",
       "    <tr>\n",
       "      <th>europe</th>\n",
       "      <td>27.891429</td>\n",
       "      <td>4.157143</td>\n",
       "      <td>109.142857</td>\n",
       "      <td>80.558824</td>\n",
       "      <td>2423.300000</td>\n",
       "      <td>16.787143</td>\n",
       "      <td>75.814286</td>\n",
       "    </tr>\n",
       "    <tr>\n",
       "      <th>japan</th>\n",
       "      <td>30.450633</td>\n",
       "      <td>4.101266</td>\n",
       "      <td>102.708861</td>\n",
       "      <td>79.835443</td>\n",
       "      <td>2221.227848</td>\n",
       "      <td>16.172152</td>\n",
       "      <td>77.443038</td>\n",
       "    </tr>\n",
       "    <tr>\n",
       "      <th>usa</th>\n",
       "      <td>20.083534</td>\n",
       "      <td>6.248996</td>\n",
       "      <td>245.901606</td>\n",
       "      <td>119.048980</td>\n",
       "      <td>3361.931727</td>\n",
       "      <td>15.033735</td>\n",
       "      <td>75.610442</td>\n",
       "    </tr>\n",
       "  </tbody>\n",
       "</table>\n",
       "</div>"
      ],
      "text/plain": [
       "              mpg  cylinders  displacement  horsepower       weight  \\\n",
       "origin                                                                \n",
       "europe  27.891429   4.157143    109.142857   80.558824  2423.300000   \n",
       "japan   30.450633   4.101266    102.708861   79.835443  2221.227848   \n",
       "usa     20.083534   6.248996    245.901606  119.048980  3361.931727   \n",
       "\n",
       "        acceleration  model_year  \n",
       "origin                            \n",
       "europe     16.787143   75.814286  \n",
       "japan      16.172152   77.443038  \n",
       "usa        15.033735   75.610442  "
      ]
     },
     "execution_count": 37,
     "metadata": {},
     "output_type": "execute_result"
    }
   ],
   "source": [
    "mpg.groupby(by=['origin']).mean()"
   ]
  },
  {
   "cell_type": "markdown",
   "id": "cadec1ac",
   "metadata": {},
   "source": [
    "### QUESTION: \n",
    "Based on the query you just ran, do the data support the claim that, relative to Europeans, Americans like heavy cars, with lots of horsepower, and which get few miles to the gallon? \n"
   ]
  },
  {
   "cell_type": "markdown",
   "id": "1ff6c094",
   "metadata": {},
   "source": [
    "### QUESTION\n",
    "\n",
    "Look at [this example](https://seaborn.pydata.org/examples/grouped_barplot.html) from the Seaborn Gallery of how to make a 'category plot.' Make a similar category plot using the car data we've been working with, and show the relationship between miles per gallon and country of origin, broken down by year. "
   ]
  },
  {
   "cell_type": "code",
   "execution_count": 40,
   "id": "f6265659",
   "metadata": {},
   "outputs": [
    {
     "data": {
      "image/png": "[encoded data removed]",
      "text/plain": [
       "<Figure size 692.486x600 with 1 Axes>"
      ]
     },
     "metadata": {},
     "output_type": "display_data"
    }
   ],
   "source": [
    "g = sns.catplot(\n",
    "    data=mpg, kind=\"bar\",\n",
    "    x=\"origin\", y=\"mpg\", hue=\"model_year\",\n",
    "    errorbar=\"sd\", palette=\"dark\", alpha=.6, height=6)"
   ]
  },
  {
   "cell_type": "code",
   "execution_count": 41,
   "id": "32ed403a",
   "metadata": {},
   "outputs": [],
   "source": [
    "### QUESTION "
   ]
  },
  {
   "cell_type": "markdown",
   "id": "e44e624d",
   "metadata": {},
   "source": [
    "Recall that pandas objects are 'dataframes'. We can pull out a column from a pandas dataframe as follows:"
   ]
  },
  {
   "cell_type": "code",
   "execution_count": 45,
   "id": "429b5a11",
   "metadata": {},
   "outputs": [],
   "source": [
    "array = mpg[['horsepower', 'model_year']].to_numpy()"
   ]
  },
  {
   "cell_type": "markdown",
   "id": "ed79a105",
   "metadata": {},
   "source": [
    "### QUESTION: \n",
    "\n",
    "Explain what this bit of code does: \n"
   ]
  },
  {
   "cell_type": "code",
   "execution_count": 53,
   "id": "4775affa",
   "metadata": {},
   "outputs": [],
   "source": [
    "slice1 = array[4,:]"
   ]
  },
  {
   "cell_type": "markdown",
   "id": "20d7e05d",
   "metadata": {},
   "source": [
    "### QUESTION: \n",
    "Explain what this bit of code does: "
   ]
  },
  {
   "cell_type": "code",
   "execution_count": 54,
   "id": "4c704aec",
   "metadata": {},
   "outputs": [],
   "source": [
    "slice2 = array[:,1]"
   ]
  },
  {
   "cell_type": "markdown",
   "id": "226aefa2",
   "metadata": {},
   "source": [
    "# QUESTION: \n",
    "\n",
    "Use the numpy function, where(), to find the indices of all cars that were made after 1974. "
   ]
  },
  {
   "cell_type": "code",
   "execution_count": 57,
   "id": "fe76c333",
   "metadata": {},
   "outputs": [],
   "source": [
    "index = np.where(slice2 > 74)"
   ]
  },
  {
   "cell_type": "code",
   "execution_count": 58,
   "id": "6f49fd85",
   "metadata": {},
   "outputs": [
    {
     "data": {
      "text/plain": [
       "(array([152, 153, 154, 155, 156, 157, 158, 159, 160, 161, 162, 163, 164,\n",
       "        165, 166, 167, 168, 169, 170, 171, 172, 173, 174, 175, 176, 177,\n",
       "        178, 179, 180, 181, 182, 183, 184, 185, 186, 187, 188, 189, 190,\n",
       "        191, 192, 193, 194, 195, 196, 197, 198, 199, 200, 201, 202, 203,\n",
       "        204, 205, 206, 207, 208, 209, 210, 211, 212, 213, 214, 215, 216,\n",
       "        217, 218, 219, 220, 221, 222, 223, 224, 225, 226, 227, 228, 229,\n",
       "        230, 231, 232, 233, 234, 235, 236, 237, 238, 239, 240, 241, 242,\n",
       "        243, 244, 245, 246, 247, 248, 249, 250, 251, 252, 253, 254, 255,\n",
       "        256, 257, 258, 259, 260, 261, 262, 263, 264, 265, 266, 267, 268,\n",
       "        269, 270, 271, 272, 273, 274, 275, 276, 277, 278, 279, 280, 281,\n",
       "        282, 283, 284, 285, 286, 287, 288, 289, 290, 291, 292, 293, 294,\n",
       "        295, 296, 297, 298, 299, 300, 301, 302, 303, 304, 305, 306, 307,\n",
       "        308, 309, 310, 311, 312, 313, 314, 315, 316, 317, 318, 319, 320,\n",
       "        321, 322, 323, 324, 325, 326, 327, 328, 329, 330, 331, 332, 333,\n",
       "        334, 335, 336, 337, 338, 339, 340, 341, 342, 343, 344, 345, 346,\n",
       "        347, 348, 349, 350, 351, 352, 353, 354, 355, 356, 357, 358, 359,\n",
       "        360, 361, 362, 363, 364, 365, 366, 367, 368, 369, 370, 371, 372,\n",
       "        373, 374, 375, 376, 377, 378, 379, 380, 381, 382, 383, 384, 385,\n",
       "        386, 387, 388, 389, 390, 391, 392, 393, 394, 395, 396, 397]),)"
      ]
     },
     "execution_count": 58,
     "metadata": {},
     "output_type": "execute_result"
    }
   ],
   "source": [
    "index"
   ]
  },
  {
   "cell_type": "code",
   "execution_count": null,
   "id": "b822c177",
   "metadata": {},
   "outputs": [],
   "source": []
  }
 ],
 "metadata": {
  "kernelspec": {
   "display_name": "Python 3 (ipykernel)",
   "language": "python",
   "name": "python3"
  },
  "language_info": {
   "codemirror_mode": {
    "name": "ipython",
    "version": 3
   },
   "file_extension": ".py",
   "mimetype": "text/x-python",
   "name": "python",
   "nbconvert_exporter": "python",
   "pygments_lexer": "ipython3",
   "version": "3.8.8"
  }
 },
 "nbformat": 4,
 "nbformat_minor": 5
}
